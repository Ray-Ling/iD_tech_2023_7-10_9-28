{
  "nbformat": 4,
  "nbformat_minor": 0,
  "metadata": {
    "colab": {
      "name": "2.3_Random_Numbers.ipynb",
      "provenance": [],
      "include_colab_link": true
    },
    "kernelspec": {
      "name": "python3",
      "display_name": "Python 3"
    },
    "language_info": {
      "name": "python"
    }
  },
  "cells": [
    {
      "cell_type": "markdown",
      "metadata": {
        "id": "view-in-github",
        "colab_type": "text"
      },
      "source": [
        "<a href=\"https://colab.research.google.com/github/Ray-Ling/iD_tech_2023_7-10_9-28/blob/main/2_3_Random_Numbers.ipynb\" target=\"_parent\"><img src=\"https://colab.research.google.com/assets/colab-badge.svg\" alt=\"Open In Colab\"/></a>"
      ]
    },
    {
      "cell_type": "markdown",
      "metadata": {
        "id": "gpkny-jI3t3J"
      },
      "source": [
        "#Random Numbers\n",
        "\n",
        "Programs often require the use of random numbers in everything from games to cyber security.\n",
        "\n",
        "To see random numbers in action, you'll make a virtual board game where the player rolls dice.\n",
        "\n",
        "The first step in generating a random number is importing the random number generator. It's common for a programming language to have extra libraries that need to be imported.\n",
        "\n",
        "A **library** is a collection of code made by other programmers for you to import and use.\n",
        "\n",
        "1. Run the cell below to import the random library\n"
      ]
    },
    {
      "cell_type": "code",
      "metadata": {
        "id": "H5eLo-7PxWPK"
      },
      "source": [
        "import random"
      ],
      "execution_count": 1,
      "outputs": []
    },
    {
      "cell_type": "markdown",
      "metadata": {
        "id": "utwpcmSd4E0M"
      },
      "source": [
        "##Setting the Range\n",
        "\n",
        "When using a random number, it's important to set the range. For example, a Roll the Dice program could roll a 12-sided die, generating a random number between 1 and 12, including the end numbers.\n",
        "\n",
        "1. Add a print statement to the code below to let the user know that a random number is being generated.\n",
        "\n",
        "2. Run the cell to see a random number."
      ]
    },
    {
      "cell_type": "code",
      "metadata": {
        "id": "49_FopAR4Sci",
        "outputId": "de13dd41-92e0-4e45-9fd1-8b7478eae8b7",
        "colab": {
          "base_uri": "https://localhost:8080/"
        }
      },
      "source": [
        "# Add your print statement here:\n",
        "print(\"i will print 1 to 12\")\n",
        "# Print out a random number between 1 and 12.\n",
        "print (random.randint(1, 12))"
      ],
      "execution_count": 2,
      "outputs": [
        {
          "output_type": "stream",
          "name": "stdout",
          "text": [
            "i will print 1 to 12\n",
            "9\n"
          ]
        }
      ]
    },
    {
      "cell_type": "markdown",
      "metadata": {
        "id": "Utl--Pdy4bJO"
      },
      "source": [
        "###Try this!\n",
        "\n",
        "Can you generate 10 random numbers between 1 and 100?\n"
      ]
    },
    {
      "cell_type": "code",
      "metadata": {
        "id": "r31RkdoT4jP5",
        "outputId": "f20073ed-d3e1-4584-a5c7-834bae4641c4",
        "colab": {
          "base_uri": "https://localhost:8080/"
        }
      },
      "source": [
        "# Add your code to generate 10 random numbers here:\n",
        "\n",
        "import random\n",
        "i=0\n",
        "while i<10:\n",
        "  print(random.randint(1,100))\n",
        "  i+=1"
      ],
      "execution_count": 5,
      "outputs": [
        {
          "output_type": "stream",
          "name": "stdout",
          "text": [
            "68\n",
            "65\n",
            "49\n",
            "39\n",
            "18\n",
            "60\n",
            "86\n",
            "17\n",
            "91\n",
            "14\n"
          ]
        }
      ]
    }
  ]
}
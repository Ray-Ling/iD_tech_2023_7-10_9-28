{
  "nbformat": 4,
  "nbformat_minor": 0,
  "metadata": {
    "colab": {
      "name": "1.4_Story_Challenge.ipynb",
      "provenance": [],
      "include_colab_link": true
    },
    "kernelspec": {
      "name": "python3",
      "display_name": "Python 3"
    },
    "language_info": {
      "name": "python"
    }
  },
  "cells": [
    {
      "cell_type": "markdown",
      "metadata": {
        "id": "view-in-github",
        "colab_type": "text"
      },
      "source": [
        "<a href=\"https://colab.research.google.com/github/Ray-Ling/iD_tech_2023_7-10_9-28/blob/main/1_4_Story_Challenge.ipynb\" target=\"_parent\"><img src=\"https://colab.research.google.com/assets/colab-badge.svg\" alt=\"Open In Colab\"/></a>"
      ]
    },
    {
      "cell_type": "markdown",
      "metadata": {
        "id": "pmgS0fuOYTwM"
      },
      "source": [
        "#Story Challenge\n",
        "\n",
        "In this notebook you will create a story that prints out to the user. You can use multiple print statements or one huge one, it's up to you!"
      ]
    },
    {
      "cell_type": "code",
      "metadata": {
        "id": "uwHRylCsYDFQ"
      },
      "source": [
        "# Add your story code here:\n",
        "\n"
      ],
      "execution_count": null,
      "outputs": []
    },
    {
      "cell_type": "markdown",
      "metadata": {
        "id": "TpoPxHD2Yr4H"
      },
      "source": [
        "###Bonus Challenge\n",
        "\n",
        "If you want to step up your story, use user input and variables to create a mad libs style project.\n",
        "\n",
        "Get some verbs, nouns, adjectives, and names from the user and insert them into your story.\n"
      ]
    },
    {
      "cell_type": "code",
      "metadata": {
        "id": "ySlrVAXZY_Oh",
        "outputId": "c18d2bad-9382-4d12-ca63-13d17e7c80cc",
        "colab": {
          "base_uri": "https://localhost:8080/"
        }
      },
      "source": [
        "# Get user input for the placeholder words. Make sure to save them to variables!\n",
        "\n",
        "# Print out the updated story using the input from the user.\n",
        "\n",
        "name= input(\"name\")\n",
        "place= input(\"place\")\n",
        "action= input(\"action\")\n",
        "adj= input(\"adj\")\n",
        "# Print out the updated story using the input from the user.\n",
        "print(\"one day \"+name+\" walking going to the \"+place+\" when he sees a person \"+action+\". \"+name+\" was \"+adj)"
      ],
      "execution_count": 1,
      "outputs": [
        {
          "output_type": "stream",
          "name": "stdout",
          "text": [
            "nameray\n",
            "placemuseum\n",
            "actiontalking\n",
            "adjhappy\n",
            "one dayraywalking going to the museum when he sees a persontalking.ray was happy\n"
          ]
        }
      ]
    },
    {
      "cell_type": "markdown",
      "metadata": {
        "id": "n3cMjYJqiM_h"
      },
      "source": [
        "###Extra Bonus Challenge\n",
        "\n",
        "Create a choose your own adventure story that gets user input to choose a path through the story. Use conditionals to print different stories depending on what the user wants to do."
      ]
    }
  ]
}
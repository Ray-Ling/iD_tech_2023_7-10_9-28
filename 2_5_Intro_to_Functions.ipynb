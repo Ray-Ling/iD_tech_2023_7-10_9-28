{
  "nbformat": 4,
  "nbformat_minor": 0,
  "metadata": {
    "colab": {
      "name": "2.5_Intro_to_Functions.ipynb",
      "provenance": [],
      "include_colab_link": true
    },
    "kernelspec": {
      "name": "python3",
      "display_name": "Python 3"
    },
    "language_info": {
      "name": "python"
    }
  },
  "cells": [
    {
      "cell_type": "markdown",
      "metadata": {
        "id": "view-in-github",
        "colab_type": "text"
      },
      "source": [
        "<a href=\"https://colab.research.google.com/github/Ray-Ling/iD_tech_2023_7-10_9-28/blob/main/2_5_Intro_to_Functions.ipynb\" target=\"_parent\"><img src=\"https://colab.research.google.com/assets/colab-badge.svg\" alt=\"Open In Colab\"/></a>"
      ]
    },
    {
      "cell_type": "markdown",
      "metadata": {
        "id": "BgWYX-mVVT7p"
      },
      "source": [
        "#Function Introduction\n",
        "\n",
        "\n",
        "There will be times when you want to perform a series of actions, and instead of writing those statements over and over every time, you can use a function!\n",
        "\n",
        "Function declarations look like this:\n",
        "\n",
        "\n",
        "\n",
        "```\n",
        " def function_name():\n",
        "      #Code to run goes here.\n",
        "      \n",
        "```\n",
        "\n",
        "1. Fill in the code for the body of the function so that it generates a random number between 0 and 2, and prints the results.\n"
      ]
    },
    {
      "cell_type": "code",
      "metadata": {
        "id": "mPW-NxFAVOCn"
      },
      "source": [
        "import random\n",
        "\n",
        "def random_number():\n",
        "  # Add code here\n",
        "  print(random.randint(1, 10))\n",
        ""
      ],
      "execution_count": 8,
      "outputs": []
    },
    {
      "cell_type": "markdown",
      "metadata": {
        "id": "kEHTUH9WV1ko"
      },
      "source": [
        "##Call a Function\n",
        "\n",
        "To Call a function put the name of it followed by opening and closing parentheses wherever you want it to run in your program.\n",
        "\n",
        "2. Run the cell below to call your function."
      ]
    },
    {
      "cell_type": "code",
      "metadata": {
        "id": "dhV9zk7SV_6d",
        "outputId": "dfc4d300-0a4a-4836-af08-6e20700febc3",
        "colab": {
          "base_uri": "https://localhost:8080/"
        }
      },
      "source": [
        "random_number()"
      ],
      "execution_count": 9,
      "outputs": [
        {
          "output_type": "stream",
          "name": "stdout",
          "text": [
            "8\n"
          ]
        }
      ]
    },
    {
      "cell_type": "markdown",
      "metadata": {
        "id": "raAb9hL0WDUX"
      },
      "source": [
        "##Return Values\n",
        "\n",
        "You can have a function **return** a value, and you can use that value to pull information out of the function after it runs.\n",
        "\n",
        "\n",
        "3. Looking at the same function as before, update it so that instead of printing rand, it returns rand."
      ]
    },
    {
      "cell_type": "code",
      "metadata": {
        "id": "70R5bA7lWJ5J",
        "outputId": "8c0fb78b-b364-43ab-b2bf-023cd606c4cf",
        "colab": {
          "base_uri": "https://localhost:8080/"
        }
      },
      "source": [
        "def random_number():\n",
        "  rand = random.randrange(0,2)\n",
        "  # Update the code here:\n",
        "  print(rand)\n",
        "\n",
        "\n",
        "a_number = random_number()\n",
        "print(a_number)"
      ],
      "execution_count": 10,
      "outputs": [
        {
          "output_type": "stream",
          "name": "stdout",
          "text": [
            "0\n",
            "None\n"
          ]
        }
      ]
    },
    {
      "cell_type": "markdown",
      "metadata": {
        "id": "ZEnlopprWnRY"
      },
      "source": [
        "##Arguments\n",
        "\n",
        "An **argument** is a way for you to provide more information to a function. The function can then use that information as it runs, like a variable.\n",
        "\n",
        "Arguments go inside the parentheses after a function. You can add as many arguments as you want, as long as they are separated by commas.\n",
        "\n",
        "4. Run the code below to see how an argument could work in your random_number function."
      ]
    },
    {
      "cell_type": "code",
      "metadata": {
        "id": "Qh0bsHmCW6UZ",
        "outputId": "fcd3bf58-4e09-4c61-fa0d-7a74bb671001",
        "colab": {
          "base_uri": "https://localhost:8080/"
        }
      },
      "source": [
        "def random_number(max_int):\n",
        "    rand = random.randrange(0, max_int)\n",
        "    return rand\n",
        "\n",
        "a_number = random_number(5)\n",
        "print(a_number)"
      ],
      "execution_count": 11,
      "outputs": [
        {
          "output_type": "stream",
          "name": "stdout",
          "text": [
            "3\n"
          ]
        }
      ]
    },
    {
      "cell_type": "markdown",
      "metadata": {
        "id": "odHUIRV1W-_L"
      },
      "source": [
        "###Try this!\n",
        "\n",
        "Can you create a function that takes two arguments and generates a random number in between those two numbers?"
      ]
    },
    {
      "cell_type": "code",
      "metadata": {
        "id": "1_2rlrn3XNeS",
        "outputId": "4e7b8955-f135-423c-807c-52a56122f540",
        "colab": {
          "base_uri": "https://localhost:8080/"
        }
      },
      "source": [
        "# Add your code here:\n",
        "def random_number(a, b):\n",
        "  rand=random.randint(a, b)\n",
        "  return rand\n",
        "\n",
        "\n",
        "# Test using this code\n",
        "a_number = random_number(5, 10)\n",
        "print(a_number)"
      ],
      "execution_count": 13,
      "outputs": [
        {
          "output_type": "stream",
          "name": "stdout",
          "text": [
            "8\n"
          ]
        }
      ]
    },
    {
      "cell_type": "markdown",
      "metadata": {
        "id": "hwEjy2HeXU_2"
      },
      "source": [
        "<details>\n",
        "<summary> Click here for one example</summary>\n",
        "\n",
        "```\n",
        "def random_number(min_int, max_int):\n",
        "  rand = random.randrange(min_int, max_int):\n",
        "  return rand\n",
        "\n",
        "```\n",
        "\n",
        "</details>"
      ]
    }
  ]
}